{
 "cells": [
  {
   "cell_type": "markdown",
   "metadata": {},
   "source": [
    "# HW1 : Data Science in Twitter Data"
   ]
  },
  {
   "cell_type": "markdown",
   "metadata": {},
   "source": [
    "**Required Readings:** \n",
    "* Chapter 1 and Chapter 9 of the book [Mining the Social Web](https://www.safaribooksonline.com/library/view/mining-the-social/9781491973547/?orpq) \n",
    "* The codes for Chapters 1 and 9 are in [here](https://github.com/mikhailklassen/Mining-the-Social-Web-3rd-Edition/tree/master/notebooks).\n",
    "\n",
    "** NOTE **\n",
    "* Please don't forget to save the notebook frequently when working in Jupyter Notebook, otherwise the changes you made can be lost.\n",
    "\n",
    "*----------------------"
   ]
  },
  {
   "cell_type": "markdown",
   "metadata": {},
   "source": [
    "## Data Collection: Download Twitter Data using API"
   ]
  },
  {
   "cell_type": "markdown",
   "metadata": {},
   "source": [
    "* As the first step of Data Science process, let's collect some twitter data. Choose a keyword and search tweets containing the keyword by using Twitter search API, and then download the searched tweets (including the meta data that the Search API returns) in a file. It is recommended that the number of searched tweets should be at least 300.\n",
    "* Store the tweets you downloaded into a local file (txt file or json file) "
   ]
  },
  {
   "cell_type": "code",
   "execution_count": 1,
   "metadata": {},
   "outputs": [],
   "source": [
    "# What keyword did you choose?:  pathofexile"
   ]
  },
  {
   "cell_type": "code",
   "execution_count": 2,
   "metadata": {},
   "outputs": [],
   "source": [
    "import twitter\n",
    "#---------------------------------------------\n",
    "# Define a Function to Login Twitter API\n",
    "def oauth_login():\n",
    "    # Go to http://twitter.com/apps/new to create an app and get values\n",
    "    # for these credentials that you'll need to provide in place of these\n",
    "    # empty string values that are defined as placeholders.\n",
    "    # See https://dev.twitter.com/docs/auth/oauth for more information \n",
    "    # on Twitter's OAuth implementation.\n",
    "    \n",
    "    CONSUMER_KEY = 'qfmJS7ENEP9TVJuYRvZyzPJp3'\n",
    "    CONSUMER_SECRET ='TdI8NevvXa9S2DUoI5XDSKON71O4qPWVLe0eR0ohapeCsZHDCC'\n",
    "    OAUTH_TOKEN = '1107694712746663936-DOU3iCtCX5Y3HEIauc2TqZPLBD219b'\n",
    "    OAUTH_TOKEN_SECRET = 'Q26XmqEwlGaRGMl0KlLL51731PZhFzRHudnFV0zHOSuga'\n",
    "    \n",
    "    auth = twitter.oauth.OAuth(OAUTH_TOKEN, OAUTH_TOKEN_SECRET,\n",
    "                               CONSUMER_KEY, CONSUMER_SECRET)\n",
    "    \n",
    "    twitter_api = twitter.Twitter(auth=auth)\n",
    "    return twitter_api\n",
    "\n",
    "#----------------------------------------------\n",
    "# Your code starts here\n",
    "#   Please add comments or text cells in between to explain the general idea of each block of the code.\n",
    "#   Please feel free to add more cells below this cell if necessary\n",
    "\n",
    "api = oauth_login()\n",
    "\n",
    "# print(api) # basically just check that it worked\n",
    "\n",
    "import json\n",
    "from urllib.parse import unquote\n",
    "\n",
    "# now, collect tweets by searching for a keyword\n",
    "\n",
    "# collect <pages> pages of <count> length from keyword <keyword>\n",
    "# collect 5 pages of 100 length from keyword pathofexile\n",
    "keyword = 'pathofexile'\n",
    "count = 100\n",
    "pages = 5\n",
    "\n",
    "results = api.search.tweets(q=keyword, count=count)\n",
    "\n",
    "statuses = results['statuses']\n",
    "\n",
    "# collect the rest of the tweets (Code taken from the first example on the github linked above)\n",
    "for _ in range(pages-1): # subtract 1 because i only want count*pages number of tweets\n",
    "    try:\n",
    "        next_results = results['search_metadata']['next_results']\n",
    "    except KeyError as e:\n",
    "        break\n",
    "        \n",
    "    kwargs = dict([ kv.split('=') for kv in unquote(next_results[1:]).split(\"&\") ])\n",
    "    \n",
    "    results = api.search.tweets(**kwargs)\n",
    "    statuses += results['statuses']\n",
    "\n",
    "# now log the statuses to a file\n",
    "with open('statuses.json', 'w') as outfile:\n",
    "    json.dump(statuses, outfile)\n"
   ]
  },
  {
   "cell_type": "markdown",
   "metadata": {},
   "source": [
    "### Report  statistics about the tweets you collected "
   ]
  },
  {
   "cell_type": "code",
   "execution_count": 3,
   "metadata": {},
   "outputs": [
    {
     "name": "stdout",
     "output_type": "stream",
     "text": [
      "How many tweets collected:  500\n"
     ]
    }
   ],
   "source": [
    "# The total number of tweets collected:  500\n",
    "# Not sure, am I supposed to print here, or just leave the comment?\n",
    "\n",
    "# NOTE: requires the previous block to have run first!\n",
    "print('How many tweets collected: ', len(statuses))\n",
    "\n"
   ]
  },
  {
   "cell_type": "markdown",
   "metadata": {},
   "source": [
    "# Data Exploration: Exploring the Tweets and Tweet Entities\n",
    "\n",
    "**(1) Word Count:** \n",
    "* Load the tweets you collected in the local file (txt or json)\n",
    "* compute the frequencies of the words being used in these tweets. \n",
    "* Plot a table of the top 30 most-frequent words with their counts"
   ]
  },
  {
   "cell_type": "code",
   "execution_count": 4,
   "metadata": {},
   "outputs": [
    {
     "name": "stdout",
     "output_type": "stream",
     "text": [
      "Top 30 most frequent words from collected tweets\n",
      "+------------------+-------+\n",
      "| Word             | Count |\n",
      "+------------------+-------+\n",
      "| @pathofexile     |   242 |\n",
      "| the              |   149 |\n",
      "| RT               |   141 |\n",
      "| to               |   140 |\n",
      "| a                |   114 |\n",
      "| and              |    98 |\n",
      "| for              |    92 |\n",
      "| of               |    87 |\n",
      "| on               |    68 |\n",
      "| #pathofexile     |    62 |\n",
      "| I                |    61 |\n",
      "| with             |    58 |\n",
      "| my               |    52 |\n",
      "| in               |    49 |\n",
      "| is               |    47 |\n",
      "| have             |    43 |\n",
      "| you              |    42 |\n",
      "| that             |    39 |\n",
      "| The              |    39 |\n",
      "| your             |    38 |\n",
      "| @ZiggyDStarcraft |    37 |\n",
      "| this             |    36 |\n",
      "| be               |    34 |\n",
      "| it               |    34 |\n",
      "| Path             |    34 |\n",
      "| our              |    34 |\n",
      "| just             |    33 |\n",
      "| -                |    30 |\n",
      "| @pathofexile:    |    30 |\n",
      "| are              |    27 |\n",
      "+------------------+-------+\n"
     ]
    }
   ],
   "source": [
    "# Your code starts here\n",
    "#   Please add comments or text cells in between to explain the general idea of each block of the code.\n",
    "#   Please feel free to add more cells below this cell if necessary\n",
    "\n",
    "import json\n",
    "\n",
    "# read in the json file\n",
    "with open('statuses.json') as json_file:  \n",
    "    data = json.load(json_file)\n",
    "    \n",
    "# print(data) # verify it read the data in (it did)\n",
    "\n",
    "# grab the text from the statuses data\n",
    "texts = [ status['text']\n",
    "        for status in data]\n",
    "\n",
    "# grab the words from texts\n",
    "words = [w for t in texts for w in t.split()]\n",
    "\n",
    "# verify\n",
    "# print(len(texts))\n",
    "# print(texts)\n",
    "# print(len(words))\n",
    "# print(words)\n",
    "\n",
    "import collections\n",
    "# print top n frequent words\n",
    "n = 30\n",
    "\n",
    "from prettytable import PrettyTable\n",
    "\n",
    "print(\"Top 30 most frequent words from collected tweets\")\n",
    "# i had a conflict in names, so instead of data, am using dataaa\n",
    "for label, dataaa in (('Word', words),): # needed this stray comma because otherwise it didn't recognize it as a tuple\n",
    "    pt = PrettyTable(field_names=[label, 'Count'])\n",
    "    c = collections.Counter(dataaa) # create the counts of the data\n",
    "    \n",
    "    [pt.add_row(kv) for kv in c.most_common()[:n]]\n",
    "    pt.align[label], pt.align['Count'] = 'l', 'r'\n",
    "    print(pt)\n"
   ]
  },
  {
   "cell_type": "markdown",
   "metadata": {},
   "source": [
    "** (2) Find the most popular tweets in your collection of tweets**\n",
    "\n",
    "Please plot a table of the top 10 most-retweeted tweets in your collection, i.e., the tweets with the largest number of retweet counts.\n"
   ]
  },
  {
   "cell_type": "code",
   "execution_count": 5,
   "metadata": {},
   "outputs": [
    {
     "name": "stdout",
     "output_type": "stream",
     "text": [
      "+-------+-----------------+---------------------+----------------------------------------------------+\n",
      "| Count | Screen Name     | Tweet ID            | Text                                               |\n",
      "+-------+-----------------+---------------------+----------------------------------------------------+\n",
      "| 608   | pathofexile     | 1105598772199854080 | RT @pathofexile: We are excited to announce that   |\n",
      "|       |                 |                     | Path of Exile and our latest expansion, Synthesis, |\n",
      "|       |                 |                     | will be coming to PlayStation 4 on Marc…           |\n",
      "| 26    | ZiggyDStarcraft | 1107565505609490432 | RT @ZiggyDStarcraft: The perfect @pathofexile item |\n",
      "|       |                 |                     | doesn't exi..... https://t.co/NJc59y1Ool           |\n",
      "| 20    | pathofexile     | 1107486361840320512 | RT @pathofexile: We've just introduced the         |\n",
      "|       |                 |                     | Lightning Character Effect which surrounds your    |\n",
      "|       |                 |                     | character with lightning, making them sparkle wi…  |\n",
      "| 15    | smol_demi       | 1107419402901819395 | RT @smol_demi: it's come to my attention that the  |\n",
      "|       |                 |                     | badges for #exilecon will have our full names on   |\n",
      "|       |                 |                     | them. for privacy and security reasons t…          |\n",
      "| 12    | pathofexile     | 1107434903652593664 | RT @pathofexile: The Glimmerwood Mystery Box has   |\n",
      "|       |                 |                     | been received very well by our community. As an    |\n",
      "|       |                 |                     | appreciation for your continued support, w…        |\n",
      "| 10    | shulGG          | 1107373276601425922 | RT @shulGG: Hi hello I'm awake I promise LETS      |\n",
      "|       |                 |                     | STREAM                                             |\n",
      "|       |                 |                     | Playing more #PathOfExile hoping to make solid     |\n",
      "|       |                 |                     | progress today!                                    |\n",
      "|       |                 |                     | Uber Lab &amp; big push tow…                       |\n",
      "| 9     | Fam4Gamers      | 1107373624166678529 | RT @Fam4Gamers: Family game night Path of Exile,   |\n",
      "|       |                 |                     | Come Chill 🖖✌️🤟👍                                   |\n",
      "|       |                 |                     | https://t.co/ZZnFXelCQI                            |\n",
      "|       |                 |                     | Sunday 6:30PM - 8:30PM (Family Play)               |\n",
      "|       |                 |                     | Sunday 8:30P…                                      |\n",
      "| 8     | ALYAKING        | 1107097820362887168 | RT @ALYAKING: Back on Path of Exile, new league    |\n",
      "|       |                 |                     | hype, come chill with me and say hello.            |\n",
      "|       |                 |                     | https://t.co/aP4YyJ5gdo        @OwlRTz             |\n",
      "|       |                 |                     | @MixerRetwee…                                      |\n",
      "| 7     | Fam4Gamers      | 1107500334287605760 | RT @Fam4Gamers: Brine King Fight quick video 🖖✌️🤟👍 |\n",
      "|       |                 |                     | Thanks to https://t.co/BWxSm3PvAP for the assist!  |\n",
      "|       |                 |                     | Thank you for a great group https://t.…            |\n",
      "| 3     | _Moy3r          | 1107679977078734849 | RT @_Moy3r: #streaming schedule for the week of    |\n",
      "|       |                 |                     | 3/17/2019                                          |\n",
      "|       |                 |                     |                                                    |\n",
      "|       |                 |                     | https://t.co/yTfQ1MGzRW                            |\n",
      "|       |                 |                     |                                                    |\n",
      "|       |                 |                     | #pathofexile #SeaOfThieves #StreamerNetwork        |\n",
      "|       |                 |                     | #SmallStrea…                                       |\n",
      "+-------+-----------------+---------------------+----------------------------------------------------+\n"
     ]
    }
   ],
   "source": [
    "# Your code starts here\n",
    "#   Please add comments or text cells in between to explain the general idea of each block of the code.\n",
    "#   Please feel free to add more cells below this cell if necessary\n",
    "\n",
    "# NOTE: This assumes the previous block has been run and the status data variable \"data\" exists\n",
    "\n",
    "# code is adapted from link above: https://github.com/mikhailklassen/Mining-the-Social-Web-3rd-Edition/blob/master/notebooks/Chapter%201%20-%20Mining%20Twitter.ipynb\n",
    "retweets = { # Using a set, because an array resulted in repeats where 4 of them were the same #1, and the rest were the same #2\n",
    "            (status['retweet_count'], \n",
    "             status['retweeted_status']['user']['screen_name'],\n",
    "             status['retweeted_status']['id'],\n",
    "             status['text']) \n",
    "            \n",
    "            for status in data \n",
    "                if 'retweeted_status' in status.keys()\n",
    "            }\n",
    "\n",
    "# take the first num (10) values\n",
    "num = 10\n",
    "pt = PrettyTable(field_names=['Count', 'Screen Name', 'Tweet ID', 'Text'])\n",
    "[ pt.add_row(row) for row in sorted(retweets, reverse=True)[:num] ]\n",
    "pt.max_width['Text'] = 50\n",
    "pt.align= 'l'\n",
    "print(pt)\n"
   ]
  },
  {
   "cell_type": "markdown",
   "metadata": {},
   "source": [
    "**(3) Find the most popular Tweet Entities in your collection of tweets**\n",
    "\n",
    "Please plot the top 10 most-frequent hashtags and top 10 most-mentioned users in your collection of tweets."
   ]
  },
  {
   "cell_type": "code",
   "execution_count": 6,
   "metadata": {},
   "outputs": [
    {
     "data": {
      "image/png": "[encoded data removed]",
      "text/plain": [
       "<Figure size 432x288 with 1 Axes>"
      ]
     },
     "metadata": {
      "needs_background": "light"
     },
     "output_type": "display_data"
    },
    {
     "data": {
      "image/png": "[encoded data removed]",
      "text/plain": [
       "<Figure size 432x288 with 1 Axes>"
      ]
     },
     "metadata": {
      "needs_background": "light"
     },
     "output_type": "display_data"
    },
    {
     "data": {
      "text/plain": [
       "<Figure size 432x288 with 0 Axes>"
      ]
     },
     "metadata": {},
     "output_type": "display_data"
    }
   ],
   "source": [
    "# Your code starts here\n",
    "#   Please add comments or text cells in between to explain the general idea of each block of the code.\n",
    "#   Please feel free to add more cells below this cell if necessary\n",
    "\n",
    "from collections import Counter\n",
    "import matplotlib.pyplot as plt\n",
    "%matplotlib inline\n",
    "\n",
    "users = [user_mention['screen_name'] for status in data for user_mention in status['entities']['user_mentions']]\n",
    "hashtags = [hashtag['text'] for status in data for hashtag in status['entities']['hashtags']]\n",
    "\n",
    "# plot the users mentioned and the hashtags\n",
    "for label, data in (('Users', users), \n",
    "                    ('Hashtags', hashtags)):\n",
    "\n",
    "    # Build a frequency map for each set of data\n",
    "    # and plot the values\n",
    "    c = Counter(data)\n",
    "    plt.hist(list(c.values()))\n",
    "    \n",
    "    # Add a title and y-label ...\n",
    "    plt.title(label)\n",
    "    plt.ylabel(\"Number of items in bin\")\n",
    "    plt.xlabel(\"Bins (number of times an item appeared)\")\n",
    "    \n",
    "    # ... and display as a new figure\n",
    "    plt.figure()"
   ]
  },
  {
   "cell_type": "markdown",
   "metadata": {},
   "source": [
    "Plot a histogram of the number of user mentions in the list using the following bins."
   ]
  },
  {
   "cell_type": "code",
   "execution_count": 7,
   "metadata": {},
   "outputs": [
    {
     "data": {
      "text/plain": [
       "Text(0, 0.5, 'Number of mentions in bin')"
      ]
     },
     "execution_count": 7,
     "metadata": {},
     "output_type": "execute_result"
    },
    {
     "data": {
      "image/png": "[encoded data removed]",
      "text/plain": [
       "<Figure size 432x288 with 1 Axes>"
      ]
     },
     "metadata": {
      "needs_background": "light"
     },
     "output_type": "display_data"
    }
   ],
   "source": [
    "bins=[0, 10, 20, 30, 40, 50, 100]\n",
    "\n",
    "# Your code starts here\n",
    "#   Please add comments or text cells in between to explain the general idea of each block of the code.\n",
    "#   Please feel free to add more cells below this cell if necessary\n",
    "\n",
    "# the labels look terrible, but this does the trick\n",
    "plt.hist(users)\n",
    "plt.title('User Mentions')\n",
    "plt.xlabel('Bins (number of mentions)')\n",
    "plt.ylabel('Number of mentions in bin')\n",
    "\n"
   ]
  },
  {
   "cell_type": "markdown",
   "metadata": {},
   "source": [
    "\n",
    " ** (optional task for fun) Getting \"All\" friends (followees) and \"All\" followers of a popular user in the tweets**"
   ]
  },
  {
   "cell_type": "markdown",
   "metadata": {},
   "source": [
    "* choose a popular twitter user who has many followers in your collection of tweets.\n",
    "* Get the list of all friends and all followers of the twitter user.\n",
    "* Plot 20 out of the followers, plot their ID numbers and screen names in a table.\n",
    "* Plot 20 out of the friends (if the user has more than 20 friends), plot their ID numbers and screen names in a table."
   ]
  },
  {
   "cell_type": "code",
   "execution_count": 8,
   "metadata": {},
   "outputs": [],
   "source": [
    "# Your code starts here\n",
    "#   Please add comments or text cells in between to explain the general idea of each block of the code.\n",
    "#   Please feel free to add more cells below this cell if necessary\n",
    "\n",
    "#pass"
   ]
  },
  {
   "cell_type": "markdown",
   "metadata": {},
   "source": [
    "*-----------------\n",
    "# Done\n",
    "\n",
    "All set! \n",
    "\n",
    "** What do you need to submit?**\n",
    "\n",
    "* **Notebook File**: Save this Jupyter notebook, and find the notebook file in your folder (for example, \"filename.ipynb\"). This is the file you need to submit. Please make sure all the plotted tables and figures are in the notebook.\n",
    "\n",
    "** How to submit: **\n",
    "\n",
    "        Please submit through Canvas, in the Assignment \"HW1\".\n",
    "        "
   ]
  }
 ],
 "metadata": {
  "anaconda-cloud": {},
  "kernelspec": {
   "display_name": "Python 3",
   "language": "python",
   "name": "python3"
  },
  "language_info": {
   "codemirror_mode": {
    "name": "ipython",
    "version": 3
   },
   "file_extension": ".py",
   "mimetype": "text/x-python",
   "name": "python",
   "nbconvert_exporter": "python",
   "pygments_lexer": "ipython3",
   "version": "3.7.0"
  }
 },
 "nbformat": 4,
 "nbformat_minor": 1
}
